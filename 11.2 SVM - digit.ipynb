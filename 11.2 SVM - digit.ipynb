{
 "cells": [
  {
   "cell_type": "code",
   "execution_count": 1,
   "metadata": {},
   "outputs": [],
   "source": [
    "import matplotlib.pyplot as plt\n",
    "from sklearn import datasets\n",
    "from sklearn import svm\n",
    "from sklearn.metrics import accuracy_score\n",
    "from sklearn.model_selection import train_test_split"
   ]
  },
  {
   "cell_type": "code",
   "execution_count": 2,
   "metadata": {},
   "outputs": [
    {
     "name": "stdout",
     "output_type": "stream",
     "text": [
      "(1797, 8, 8)\n",
      "(1797,)\n"
     ]
    }
   ],
   "source": [
    "digits = datasets.load_digits()\n",
    "#print(digit.target[:5])\n",
    "#print(digit.images[:5])\n",
    "print(digits.images.shape)\n",
    "print(digits.target.shape)"
   ]
  },
  {
   "cell_type": "code",
   "execution_count": 3,
   "metadata": {},
   "outputs": [
    {
     "data": {
      "image/png": "[encoded data removed]",
      "text/plain": [
       "<Figure size 432x288 with 10 Axes>"
      ]
     },
     "metadata": {
      "needs_background": "light"
     },
     "output_type": "display_data"
    }
   ],
   "source": [
    "for label, img in zip (digits.target[:10],digits.images[:10]):\n",
    "    plt.subplot(2,5,label+1)\n",
    "    plt.axis('off') #축 그리지 않음\n",
    "    plt.imshow(img,cmap = plt.cm.gray_r,interpolation = 'nearest')\n",
    "    plt.title('Digit:{0}.'.format(label))\n",
    "    \n",
    "plt.show()"
   ]
  },
  {
   "cell_type": "code",
   "execution_count": 5,
   "metadata": {},
   "outputs": [],
   "source": [
    "images = digits.images\n",
    "labels = digits.target\n",
    "images = images.reshape(images.shape[0],-1) #1차원 벡터로 바꿈"
   ]
  },
  {
   "cell_type": "code",
   "execution_count": 6,
   "metadata": {},
   "outputs": [],
   "source": [
    "X_train, X_test,y_train,y_test = train_test_split(images,labels,random_state = 42)"
   ]
  },
  {
   "cell_type": "code",
   "execution_count": 7,
   "metadata": {},
   "outputs": [
    {
     "name": "stdout",
     "output_type": "stream",
     "text": [
      "(1347, 64)\n",
      "(450, 64)\n",
      "(1347,)\n",
      "(450,)\n"
     ]
    }
   ],
   "source": [
    "print(X_train.shape)\n",
    "print(X_test.shape)\n",
    "print(y_train.shape)\n",
    "print(y_test.shape)"
   ]
  },
  {
   "cell_type": "code",
   "execution_count": 11,
   "metadata": {},
   "outputs": [
    {
     "name": "stdout",
     "output_type": "stream",
     "text": [
      "훈련 세트 점수 : 1.00\n",
      "테스트 세트 점수 : 0.99\n"
     ]
    }
   ],
   "source": [
    "classifier = svm.SVC(C = 1.0,gamma = 0.001) #c값을 늘리면 오분류가 최소 ,  감마가 작을수록 복잡도를 낮춤\n",
    "classifier.fit(X_train,y_train)\n",
    "predicted = classifier.predict(X_test)\n",
    "\n",
    "#print('Accracy: ',accuracy_score(y_test,predicted))\n",
    "print(\"훈련 세트 점수 : {:.2f}\".format(classifier.score(X_train,y_train)))\n",
    "print(\"테스트 세트 점수 : {:.2f}\".format(classifier.score(X_test,y_test)))"
   ]
  },
  {
   "cell_type": "code",
   "execution_count": null,
   "metadata": {},
   "outputs": [],
   "source": []
  }
 ],
 "metadata": {
  "kernelspec": {
   "display_name": "Python 3",
   "language": "python",
   "name": "python3"
  },
  "language_info": {
   "codemirror_mode": {
    "name": "ipython",
    "version": 3
   },
   "file_extension": ".py",
   "mimetype": "text/x-python",
   "name": "python",
   "nbconvert_exporter": "python",
   "pygments_lexer": "ipython3",
   "version": "3.7.4"
  }
 },
 "nbformat": 4,
 "nbformat_minor": 2
}
